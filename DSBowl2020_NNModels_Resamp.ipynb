{
 "cells": [
  {
   "cell_type": "markdown",
   "metadata": {},
   "source": [
    "# Modeling"
   ]
  },
  {
   "cell_type": "code",
   "execution_count": 1,
   "metadata": {},
   "outputs": [
    {
     "name": "stderr",
     "output_type": "stream",
     "text": [
      "Using TensorFlow backend.\n"
     ]
    }
   ],
   "source": [
    "import pandas as pd\n",
    "import numpy as np\n",
    "\n",
    "from sklearn.linear_model import LogisticRegression\n",
    "from sklearn.ensemble import RandomForestClassifier\n",
    "\n",
    "from sklearn.model_selection import train_test_split, cross_val_score\n",
    "from sklearn.metrics import confusion_matrix\n",
    "from sklearn.preprocessing import StandardScaler\n",
    "from sklearn.utils import resample\n",
    "\n",
    "from keras.utils import to_categorical\n",
    "from keras.models import Sequential\n",
    "from keras.layers import Dense, Dropout\n",
    "import matplotlib.pyplot as plt\n",
    "from imblearn.over_sampling import SMOTE, BorderlineSMOTE\n",
    "\n",
    "np.random.seed(42)"
   ]
  },
  {
   "cell_type": "code",
   "execution_count": 2,
   "metadata": {},
   "outputs": [],
   "source": [
    "train = pd.read_csv('./data/new_train.csv')\n",
    "test = pd.read_csv('./data/new_test.csv')\n",
    "labels = pd.read_csv('./data/train_labels.csv')"
   ]
  },
  {
   "cell_type": "code",
   "execution_count": 3,
   "metadata": {},
   "outputs": [],
   "source": [
    "acc = labels[['game_session', 'accuracy_group']]\n",
    "trainlab = train.merge(acc, on = 'game_session')"
   ]
  },
  {
   "cell_type": "code",
   "execution_count": 4,
   "metadata": {},
   "outputs": [],
   "source": [
    "trainlab.drop(columns=['Unnamed: 0', \n",
    "                       'installation_id',\n",
    "                       'game_time_s', \n",
    "                       'step_time',\n",
    "                      'total_game_sessions',\n",
    "                      'total_game_time',\n",
    "                      'game_correct',\n",
    "                      'game_incorrect',\n",
    "                      'test_correct',\n",
    "                      'test_incorrect',\n",
    "                      'new_game',\n",
    "                      'got_instructions',\n",
    "                      'instruction_time',\n",
    "                      'assessment_time',\n",
    "                      'game_session'], inplace = True)"
   ]
  },
  {
   "cell_type": "markdown",
   "metadata": {},
   "source": [
    "## FEATURE NOTES\n",
    "1. We might have data leakage with the current cumulative calculation (it shouldn't include the correct/incorrect answers for the current game session but I think it does)\n",
    "2. We might want to weight certain features more (or make combination features?) Ex. prior time spent on assessments might be more meaningful; the game/assessment scores from the last game or last three games; the ratio of time spent in the last world they were in before taking an assessment; the amount of time/number of times they got extra instructions)\n",
    "3. Features we don't have that might be meaningful:\n",
    "    - Whether or not this is a potentially noisy device (ex. more than 300 game sessions)\n",
    "    - Slope of 'improvement' (how much faster the player is in the games, how their ratio of correct-incorrect responses has changed since the last game time)"
   ]
  },
  {
   "cell_type": "markdown",
   "metadata": {},
   "source": [
    "### Balancing Classes\n",
    "* I tried modeling with balanced classes, model did much worse on accuracy. Reverted modeling back to unbalanced version for now."
   ]
  },
  {
   "cell_type": "code",
   "execution_count": 5,
   "metadata": {},
   "outputs": [
    {
     "name": "stdout",
     "output_type": "stream",
     "text": [
      "df0 shape: (4229, 45)\n",
      "df1 shape: (2411, 45)\n",
      "df2 shape: (2205, 45)\n",
      "df3 shape: (8845, 45)\n"
     ]
    }
   ],
   "source": [
    "# Separate classes\n",
    "df_0 = trainlab[trainlab['accuracy_group']==0]\n",
    "df_1 = trainlab[trainlab['accuracy_group']==1]\n",
    "df_2 = trainlab[trainlab['accuracy_group']==2]\n",
    "df_3 = trainlab[trainlab['accuracy_group']==3]\n",
    "\n",
    "print(\"df0 shape:\", df_0.shape)\n",
    "print(\"df1 shape:\", df_1.shape)\n",
    "print(\"df2 shape:\", df_2.shape)\n",
    "print(\"df3 shape:\", df_3.shape)"
   ]
  },
  {
   "cell_type": "markdown",
   "metadata": {},
   "source": [
    "### Train/Test/Split"
   ]
  },
  {
   "cell_type": "code",
   "execution_count": 6,
   "metadata": {},
   "outputs": [],
   "source": [
    "X = trainlab.drop(columns = ['accuracy_group'])\n",
    "y = trainlab['accuracy_group']\n",
    "\n",
    "## to use balanced classes\n",
    "# X = trainlab_bal.drop(columns = ['accuracy_group'])\n",
    "# y = trainlab_bal['accuracy_group']\n"
   ]
  },
  {
   "cell_type": "code",
   "execution_count": 7,
   "metadata": {},
   "outputs": [
    {
     "data": {
      "text/plain": [
       "3    0.500000\n",
       "0    0.239062\n",
       "1    0.136292\n",
       "2    0.124647\n",
       "Name: accuracy_group, dtype: float64"
      ]
     },
     "execution_count": 7,
     "metadata": {},
     "output_type": "execute_result"
    }
   ],
   "source": [
    "y.value_counts(normalize = True)"
   ]
  },
  {
   "cell_type": "code",
   "execution_count": 8,
   "metadata": {},
   "outputs": [],
   "source": [
    "X_train, X_test, y_train, y_test = train_test_split(X, y, stratify = y)"
   ]
  },
  {
   "cell_type": "code",
   "execution_count": 9,
   "metadata": {},
   "outputs": [
    {
     "data": {
      "text/plain": [
       "3    0.499962\n",
       "0    0.239089\n",
       "1    0.136278\n",
       "2    0.124670\n",
       "Name: accuracy_group, dtype: float64"
      ]
     },
     "execution_count": 9,
     "metadata": {},
     "output_type": "execute_result"
    }
   ],
   "source": [
    "y_train.value_counts(normalize = True)"
   ]
  },
  {
   "cell_type": "code",
   "execution_count": 10,
   "metadata": {},
   "outputs": [
    {
     "name": "stdout",
     "output_type": "stream",
     "text": [
      "y_train shape: (13267,)\n",
      "y_test shape: (4423,)\n"
     ]
    }
   ],
   "source": [
    "print(\"y_train shape:\", y_train.shape)\n",
    "print(\"y_test shape:\", y_test.shape)"
   ]
  },
  {
   "cell_type": "markdown",
   "metadata": {},
   "source": [
    "### Scaling"
   ]
  },
  {
   "cell_type": "code",
   "execution_count": 11,
   "metadata": {},
   "outputs": [],
   "source": [
    "ss = StandardScaler()\n",
    "X_train_ss = ss.fit_transform(X_train)\n",
    "X_test_ss = ss.transform(X_test)"
   ]
  },
  {
   "cell_type": "markdown",
   "metadata": {},
   "source": [
    "## Sequential Neural Network\n",
    "\n",
    "1. Using the base information created above without much regard to balanced classes offers learning only in the training data and actually starts to hurt the validation data.\n",
    "2. Need to set-up features that will help incrementally grow the validation data.\n",
    "3. Potentially rebalancing the classes using Synthetic data will offer new insight.\n",
    "4. The features attached to the Neural network are arbitary right now and can be update quickly when stronger data is collected, or current data is refined."
   ]
  },
  {
   "cell_type": "code",
   "execution_count": 12,
   "metadata": {},
   "outputs": [
    {
     "data": {
      "text/plain": [
       "(13267, 44)"
      ]
     },
     "execution_count": 12,
     "metadata": {},
     "output_type": "execute_result"
    }
   ],
   "source": [
    "X_train_ss.shape"
   ]
  },
  {
   "cell_type": "code",
   "execution_count": 13,
   "metadata": {},
   "outputs": [],
   "source": [
    "# one hot encode the classes\n",
    "y_train_hot = to_categorical(y_train, num_classes=4, dtype='int32')"
   ]
  },
  {
   "cell_type": "code",
   "execution_count": 14,
   "metadata": {},
   "outputs": [
    {
     "name": "stdout",
     "output_type": "stream",
     "text": [
      "Train on 10613 samples, validate on 2654 samples\n",
      "Epoch 1/100\n",
      "10613/10613 [==============================] - 6s 539us/step - loss: 1.2019 - accuracy: 0.5105 - val_loss: 1.1519 - val_accuracy: 0.5237\n",
      "Epoch 2/100\n",
      "10613/10613 [==============================] - 5s 516us/step - loss: 1.1744 - accuracy: 0.5223 - val_loss: 1.1434 - val_accuracy: 0.5354\n",
      "Epoch 3/100\n",
      "10613/10613 [==============================] - 6s 544us/step - loss: 1.1624 - accuracy: 0.5260 - val_loss: 1.1467 - val_accuracy: 0.5339\n",
      "Epoch 4/100\n",
      "10613/10613 [==============================] - 5s 497us/step - loss: 1.1600 - accuracy: 0.5289 - val_loss: 1.1394 - val_accuracy: 0.5324\n",
      "Epoch 5/100\n",
      "10613/10613 [==============================] - 5s 503us/step - loss: 1.1563 - accuracy: 0.5303 - val_loss: 1.1438 - val_accuracy: 0.5403\n",
      "Epoch 6/100\n",
      "10613/10613 [==============================] - 5s 507us/step - loss: 1.1500 - accuracy: 0.5342 - val_loss: 1.1448 - val_accuracy: 0.5275\n",
      "Epoch 7/100\n",
      "10613/10613 [==============================] - 5s 510us/step - loss: 1.1465 - accuracy: 0.5360 - val_loss: 1.1322 - val_accuracy: 0.5328\n",
      "Epoch 8/100\n",
      "10613/10613 [==============================] - 5s 512us/step - loss: 1.1455 - accuracy: 0.5345 - val_loss: 1.1269 - val_accuracy: 0.5422\n",
      "Epoch 9/100\n",
      "10613/10613 [==============================] - 6s 529us/step - loss: 1.1439 - accuracy: 0.5346 - val_loss: 1.1306 - val_accuracy: 0.5381\n",
      "Epoch 10/100\n",
      "10613/10613 [==============================] - 5s 513us/step - loss: 1.1463 - accuracy: 0.5346 - val_loss: 1.1273 - val_accuracy: 0.5422\n",
      "Epoch 11/100\n",
      "10613/10613 [==============================] - 5s 512us/step - loss: 1.1381 - accuracy: 0.5342 - val_loss: 1.1274 - val_accuracy: 0.5377\n",
      "Epoch 12/100\n",
      "10613/10613 [==============================] - 5s 516us/step - loss: 1.1395 - accuracy: 0.5352 - val_loss: 1.1250 - val_accuracy: 0.5403\n",
      "Epoch 13/100\n",
      "10613/10613 [==============================] - 5s 516us/step - loss: 1.1332 - accuracy: 0.5406 - val_loss: 1.1373 - val_accuracy: 0.5377\n",
      "Epoch 14/100\n",
      "10613/10613 [==============================] - 6s 518us/step - loss: 1.1358 - accuracy: 0.5384 - val_loss: 1.1324 - val_accuracy: 0.5373\n",
      "Epoch 15/100\n",
      "10613/10613 [==============================] - 6s 527us/step - loss: 1.1329 - accuracy: 0.5374 - val_loss: 1.1323 - val_accuracy: 0.5392\n",
      "Epoch 16/100\n",
      "10613/10613 [==============================] - 6s 519us/step - loss: 1.1317 - accuracy: 0.5411 - val_loss: 1.1319 - val_accuracy: 0.5396\n",
      "Epoch 17/100\n",
      "10613/10613 [==============================] - 6s 524us/step - loss: 1.1288 - accuracy: 0.5412 - val_loss: 1.1258 - val_accuracy: 0.5467\n",
      "Epoch 18/100\n",
      "10613/10613 [==============================] - 6s 521us/step - loss: 1.1277 - accuracy: 0.5373 - val_loss: 1.1242 - val_accuracy: 0.5448\n",
      "Epoch 19/100\n",
      "10613/10613 [==============================] - 6s 523us/step - loss: 1.1223 - accuracy: 0.5409 - val_loss: 1.1316 - val_accuracy: 0.5396\n",
      "Epoch 20/100\n",
      "10613/10613 [==============================] - 6s 538us/step - loss: 1.1234 - accuracy: 0.5446 - val_loss: 1.1355 - val_accuracy: 0.5441\n",
      "Epoch 21/100\n",
      "10613/10613 [==============================] - 5s 511us/step - loss: 1.1241 - accuracy: 0.5437 - val_loss: 1.1329 - val_accuracy: 0.5350\n",
      "Epoch 22/100\n",
      "10613/10613 [==============================] - 6s 520us/step - loss: 1.1215 - accuracy: 0.5414 - val_loss: 1.1277 - val_accuracy: 0.5471\n",
      "Epoch 23/100\n",
      "10613/10613 [==============================] - 5s 516us/step - loss: 1.1183 - accuracy: 0.5410 - val_loss: 1.1290 - val_accuracy: 0.5516\n",
      "Epoch 24/100\n",
      "10613/10613 [==============================] - 6s 527us/step - loss: 1.1159 - accuracy: 0.5484 - val_loss: 1.1313 - val_accuracy: 0.5456\n",
      "Epoch 25/100\n",
      "10613/10613 [==============================] - 5s 518us/step - loss: 1.1143 - accuracy: 0.5444 - val_loss: 1.1386 - val_accuracy: 0.5445\n",
      "Epoch 26/100\n",
      "10613/10613 [==============================] - 6s 520us/step - loss: 1.1096 - accuracy: 0.5455 - val_loss: 1.1377 - val_accuracy: 0.5365\n",
      "Epoch 27/100\n",
      "10613/10613 [==============================] - 6s 529us/step - loss: 1.1104 - accuracy: 0.5506 - val_loss: 1.1320 - val_accuracy: 0.5411\n",
      "Epoch 28/100\n",
      "10613/10613 [==============================] - 6s 525us/step - loss: 1.1051 - accuracy: 0.5473 - val_loss: 1.1497 - val_accuracy: 0.5456\n",
      "Epoch 29/100\n",
      "10613/10613 [==============================] - 6s 530us/step - loss: 1.1008 - accuracy: 0.5489 - val_loss: 1.1340 - val_accuracy: 0.5422\n",
      "Epoch 30/100\n",
      "10613/10613 [==============================] - 6s 531us/step - loss: 1.1009 - accuracy: 0.5540 - val_loss: 1.1386 - val_accuracy: 0.5430\n",
      "Epoch 31/100\n",
      "10613/10613 [==============================] - 6s 538us/step - loss: 1.1044 - accuracy: 0.5474 - val_loss: 1.1481 - val_accuracy: 0.5407\n",
      "Epoch 32/100\n",
      "10613/10613 [==============================] - 6s 535us/step - loss: 1.0936 - accuracy: 0.5528 - val_loss: 1.1500 - val_accuracy: 0.5426\n",
      "Epoch 33/100\n",
      "10613/10613 [==============================] - 5s 513us/step - loss: 1.0910 - accuracy: 0.5548 - val_loss: 1.1499 - val_accuracy: 0.5448\n",
      "Epoch 34/100\n",
      "10613/10613 [==============================] - 5s 508us/step - loss: 1.0985 - accuracy: 0.5530 - val_loss: 1.1364 - val_accuracy: 0.5418\n",
      "Epoch 35/100\n",
      "10613/10613 [==============================] - 5s 510us/step - loss: 1.0896 - accuracy: 0.5536 - val_loss: 1.1462 - val_accuracy: 0.5441\n",
      "Epoch 36/100\n",
      "10613/10613 [==============================] - 5s 505us/step - loss: 1.0894 - accuracy: 0.5577 - val_loss: 1.1422 - val_accuracy: 0.5441\n",
      "Epoch 37/100\n",
      "10613/10613 [==============================] - 5s 505us/step - loss: 1.0830 - accuracy: 0.5601 - val_loss: 1.1469 - val_accuracy: 0.5414\n",
      "Epoch 38/100\n",
      "10613/10613 [==============================] - 5s 508us/step - loss: 1.0812 - accuracy: 0.5580 - val_loss: 1.1579 - val_accuracy: 0.5403\n",
      "Epoch 39/100\n",
      "10613/10613 [==============================] - 5s 511us/step - loss: 1.0809 - accuracy: 0.5547 - val_loss: 1.1434 - val_accuracy: 0.5422\n",
      "Epoch 40/100\n",
      "10613/10613 [==============================] - 5s 508us/step - loss: 1.0766 - accuracy: 0.5572 - val_loss: 1.1504 - val_accuracy: 0.5445\n",
      "Epoch 41/100\n",
      "10613/10613 [==============================] - 5s 512us/step - loss: 1.0800 - accuracy: 0.5620 - val_loss: 1.1559 - val_accuracy: 0.5490\n",
      "Epoch 42/100\n",
      "10613/10613 [==============================] - 5s 516us/step - loss: 1.0725 - accuracy: 0.5600 - val_loss: 1.1599 - val_accuracy: 0.5324\n",
      "Epoch 43/100\n",
      "10613/10613 [==============================] - 6s 519us/step - loss: 1.0690 - accuracy: 0.5590 - val_loss: 1.1646 - val_accuracy: 0.5471\n",
      "Epoch 44/100\n",
      "10613/10613 [==============================] - 5s 512us/step - loss: 1.0749 - accuracy: 0.5613 - val_loss: 1.1508 - val_accuracy: 0.5422\n",
      "Epoch 45/100\n",
      "10613/10613 [==============================] - 6s 538us/step - loss: 1.0635 - accuracy: 0.5644 - val_loss: 1.1695 - val_accuracy: 0.5305\n",
      "Epoch 46/100\n",
      "10613/10613 [==============================] - 6s 560us/step - loss: 1.0691 - accuracy: 0.5624 - val_loss: 1.1726 - val_accuracy: 0.5332\n",
      "Epoch 47/100\n",
      "10613/10613 [==============================] - 6s 530us/step - loss: 1.0619 - accuracy: 0.5641 - val_loss: 1.1881 - val_accuracy: 0.5369\n",
      "Epoch 48/100\n",
      "10613/10613 [==============================] - 6s 570us/step - loss: 1.0592 - accuracy: 0.5680 - val_loss: 1.1753 - val_accuracy: 0.5377\n",
      "Epoch 49/100\n",
      "10613/10613 [==============================] - 6s 555us/step - loss: 1.0620 - accuracy: 0.5592 - val_loss: 1.1744 - val_accuracy: 0.5350\n",
      "Epoch 50/100\n",
      "10613/10613 [==============================] - 6s 551us/step - loss: 1.0568 - accuracy: 0.5642 - val_loss: 1.1784 - val_accuracy: 0.5403\n",
      "Epoch 51/100\n",
      "10613/10613 [==============================] - 6s 538us/step - loss: 1.0514 - accuracy: 0.5693 - val_loss: 1.1668 - val_accuracy: 0.5350\n",
      "Epoch 52/100\n",
      "10613/10613 [==============================] - 5s 504us/step - loss: 1.0568 - accuracy: 0.5667 - val_loss: 1.1825 - val_accuracy: 0.5362\n",
      "Epoch 53/100\n",
      "10613/10613 [==============================] - 5s 502us/step - loss: 1.0441 - accuracy: 0.5695 - val_loss: 1.1863 - val_accuracy: 0.5384\n",
      "Epoch 54/100\n",
      "10613/10613 [==============================] - 5s 505us/step - loss: 1.0420 - accuracy: 0.5699 - val_loss: 1.1926 - val_accuracy: 0.5396\n",
      "Epoch 55/100\n"
     ]
    },
    {
     "name": "stdout",
     "output_type": "stream",
     "text": [
      "10613/10613 [==============================] - 5s 490us/step - loss: 1.0442 - accuracy: 0.5701 - val_loss: 1.1822 - val_accuracy: 0.5362\n",
      "Epoch 56/100\n",
      "10613/10613 [==============================] - 5s 485us/step - loss: 1.0425 - accuracy: 0.5734 - val_loss: 1.1857 - val_accuracy: 0.5381\n",
      "Epoch 57/100\n",
      "10613/10613 [==============================] - 5s 487us/step - loss: 1.0411 - accuracy: 0.5711 - val_loss: 1.2050 - val_accuracy: 0.5328\n",
      "Epoch 58/100\n",
      "10613/10613 [==============================] - 5s 484us/step - loss: 1.0396 - accuracy: 0.5690 - val_loss: 1.2169 - val_accuracy: 0.5396\n",
      "Epoch 59/100\n",
      "10613/10613 [==============================] - 5s 502us/step - loss: 1.0307 - accuracy: 0.5704 - val_loss: 1.2190 - val_accuracy: 0.5339\n",
      "Epoch 60/100\n",
      "10613/10613 [==============================] - 6s 543us/step - loss: 1.0313 - accuracy: 0.5703 - val_loss: 1.2203 - val_accuracy: 0.5384\n",
      "Epoch 61/100\n",
      "10613/10613 [==============================] - 5s 500us/step - loss: 1.0277 - accuracy: 0.5743 - val_loss: 1.2334 - val_accuracy: 0.5381\n",
      "Epoch 62/100\n",
      "10613/10613 [==============================] - 5s 492us/step - loss: 1.0279 - accuracy: 0.5764 - val_loss: 1.2080 - val_accuracy: 0.5305\n",
      "Epoch 63/100\n",
      "10613/10613 [==============================] - 5s 513us/step - loss: 1.0221 - accuracy: 0.5768 - val_loss: 1.2316 - val_accuracy: 0.5430\n",
      "Epoch 64/100\n",
      "10613/10613 [==============================] - 6s 544us/step - loss: 1.0259 - accuracy: 0.5792 - val_loss: 1.2196 - val_accuracy: 0.5384\n",
      "Epoch 65/100\n",
      "10613/10613 [==============================] - 5s 502us/step - loss: 1.0197 - accuracy: 0.5799 - val_loss: 1.2268 - val_accuracy: 0.5249\n",
      "Epoch 66/100\n",
      "10613/10613 [==============================] - 5s 498us/step - loss: 1.0272 - accuracy: 0.5807 - val_loss: 1.2300 - val_accuracy: 0.5260\n",
      "Epoch 67/100\n",
      "10613/10613 [==============================] - 5s 496us/step - loss: 1.0170 - accuracy: 0.5799 - val_loss: 1.2135 - val_accuracy: 0.5354\n",
      "Epoch 68/100\n",
      "10613/10613 [==============================] - 5s 502us/step - loss: 1.0118 - accuracy: 0.5776 - val_loss: 1.2464 - val_accuracy: 0.5373\n",
      "Epoch 69/100\n",
      "10613/10613 [==============================] - 5s 505us/step - loss: 1.0152 - accuracy: 0.5794 - val_loss: 1.2320 - val_accuracy: 0.5362\n",
      "Epoch 70/100\n",
      "10613/10613 [==============================] - 5s 498us/step - loss: 1.0150 - accuracy: 0.5849 - val_loss: 1.2339 - val_accuracy: 0.5256\n",
      "Epoch 71/100\n",
      "10613/10613 [==============================] - 5s 506us/step - loss: 1.0100 - accuracy: 0.5850 - val_loss: 1.2704 - val_accuracy: 0.5203\n",
      "Epoch 72/100\n",
      "10613/10613 [==============================] - 5s 502us/step - loss: 0.9982 - accuracy: 0.5857 - val_loss: 1.2500 - val_accuracy: 0.5249\n",
      "Epoch 73/100\n",
      "10613/10613 [==============================] - 5s 506us/step - loss: 1.0013 - accuracy: 0.5920 - val_loss: 1.2805 - val_accuracy: 0.5283\n",
      "Epoch 74/100\n",
      "10613/10613 [==============================] - 5s 503us/step - loss: 0.9991 - accuracy: 0.5893 - val_loss: 1.2360 - val_accuracy: 0.5358\n",
      "Epoch 75/100\n",
      "10613/10613 [==============================] - 5s 510us/step - loss: 0.9987 - accuracy: 0.5898 - val_loss: 1.2565 - val_accuracy: 0.5271\n",
      "Epoch 76/100\n",
      "10613/10613 [==============================] - 6s 533us/step - loss: 0.9974 - accuracy: 0.5889 - val_loss: 1.2671 - val_accuracy: 0.5309\n",
      "Epoch 77/100\n",
      "10613/10613 [==============================] - 5s 495us/step - loss: 0.9891 - accuracy: 0.5925 - val_loss: 1.2725 - val_accuracy: 0.5301\n",
      "Epoch 78/100\n",
      "10613/10613 [==============================] - 5s 498us/step - loss: 0.9898 - accuracy: 0.5863 - val_loss: 1.2707 - val_accuracy: 0.5271\n",
      "Epoch 79/100\n",
      "10613/10613 [==============================] - 5s 503us/step - loss: 0.9860 - accuracy: 0.5928 - val_loss: 1.2731 - val_accuracy: 0.5279\n",
      "Epoch 80/100\n",
      "10613/10613 [==============================] - 5s 503us/step - loss: 0.9904 - accuracy: 0.5892 - val_loss: 1.2562 - val_accuracy: 0.5226\n",
      "Epoch 81/100\n",
      "10613/10613 [==============================] - 5s 506us/step - loss: 0.9873 - accuracy: 0.5925 - val_loss: 1.2696 - val_accuracy: 0.5215\n",
      "Epoch 82/100\n",
      "10613/10613 [==============================] - 5s 506us/step - loss: 0.9777 - accuracy: 0.5946 - val_loss: 1.2851 - val_accuracy: 0.5260\n",
      "Epoch 83/100\n",
      "10613/10613 [==============================] - 5s 511us/step - loss: 0.9753 - accuracy: 0.5954 - val_loss: 1.3167 - val_accuracy: 0.5203\n",
      "Epoch 84/100\n",
      "10613/10613 [==============================] - 5s 510us/step - loss: 0.9725 - accuracy: 0.5994 - val_loss: 1.2972 - val_accuracy: 0.5294\n",
      "Epoch 85/100\n",
      "10613/10613 [==============================] - 5s 502us/step - loss: 0.9761 - accuracy: 0.5967 - val_loss: 1.2631 - val_accuracy: 0.5268\n",
      "Epoch 86/100\n",
      "10613/10613 [==============================] - 5s 508us/step - loss: 0.9703 - accuracy: 0.5962 - val_loss: 1.3005 - val_accuracy: 0.5147\n",
      "Epoch 87/100\n",
      "10613/10613 [==============================] - 5s 507us/step - loss: 0.9705 - accuracy: 0.6002 - val_loss: 1.3103 - val_accuracy: 0.5170\n",
      "Epoch 88/100\n",
      "10613/10613 [==============================] - 5s 508us/step - loss: 0.9730 - accuracy: 0.5968 - val_loss: 1.3106 - val_accuracy: 0.5226\n",
      "Epoch 89/100\n",
      "10613/10613 [==============================] - 5s 506us/step - loss: 0.9615 - accuracy: 0.6005 - val_loss: 1.3034 - val_accuracy: 0.5219\n",
      "Epoch 90/100\n",
      "10613/10613 [==============================] - 5s 508us/step - loss: 0.9713 - accuracy: 0.5987 - val_loss: 1.3185 - val_accuracy: 0.5309\n",
      "Epoch 91/100\n",
      "10613/10613 [==============================] - 5s 508us/step - loss: 0.9658 - accuracy: 0.6021 - val_loss: 1.2923 - val_accuracy: 0.5252\n",
      "Epoch 92/100\n",
      "10613/10613 [==============================] - 5s 516us/step - loss: 0.9586 - accuracy: 0.6037 - val_loss: 1.4168 - val_accuracy: 0.5185\n",
      "Epoch 93/100\n",
      "10613/10613 [==============================] - 5s 517us/step - loss: 0.9580 - accuracy: 0.6055 - val_loss: 1.3686 - val_accuracy: 0.5245\n",
      "Epoch 94/100\n",
      "10613/10613 [==============================] - 6s 526us/step - loss: 0.9531 - accuracy: 0.6076 - val_loss: 1.3069 - val_accuracy: 0.5230\n",
      "Epoch 95/100\n",
      "10613/10613 [==============================] - 6s 524us/step - loss: 0.9496 - accuracy: 0.6074 - val_loss: 1.3162 - val_accuracy: 0.5249\n",
      "Epoch 96/100\n",
      "10613/10613 [==============================] - 6s 525us/step - loss: 0.9490 - accuracy: 0.6058 - val_loss: 1.3750 - val_accuracy: 0.5147\n",
      "Epoch 97/100\n",
      "10613/10613 [==============================] - 5s 515us/step - loss: 0.9453 - accuracy: 0.6109 - val_loss: 1.3416 - val_accuracy: 0.5222\n",
      "Epoch 98/100\n",
      "10613/10613 [==============================] - 6s 550us/step - loss: 0.9527 - accuracy: 0.6046 - val_loss: 1.3081 - val_accuracy: 0.5219\n",
      "Epoch 99/100\n",
      "10613/10613 [==============================] - 6s 533us/step - loss: 0.9429 - accuracy: 0.6077 - val_loss: 1.3258 - val_accuracy: 0.5268\n",
      "Epoch 100/100\n",
      "10613/10613 [==============================] - 5s 512us/step - loss: 0.9450 - accuracy: 0.6114 - val_loss: 1.3315 - val_accuracy: 0.5215\n",
      "dict_keys(['val_loss', 'val_accuracy', 'loss', 'accuracy'])\n"
     ]
    },
    {
     "data": {
      "image/png": "[encoded data removed]",
      "text/plain": [
       "<Figure size 432x288 with 1 Axes>"
      ]
     },
     "metadata": {
      "needs_background": "light"
     },
     "output_type": "display_data"
    },
    {
     "data": {
      "image/png": "[encoded data removed]",
      "text/plain": [
       "<Figure size 432x288 with 1 Axes>"
      ]
     },
     "metadata": {
      "needs_background": "light"
     },
     "output_type": "display_data"
    }
   ],
   "source": [
    "# Basic Pipeline for a Neueral Network.  The number of neurons was picked with no specific reasons\n",
    "def seq_nn(X, y):\n",
    "    \n",
    "    \"\"\"\n",
    "    X (array): data\n",
    "    y (array): one hot encoded target\n",
    "    \"\"\"\n",
    "    \n",
    "    model = Sequential()\n",
    "    model.add(Dense(250, input_dim=44, activation='relu'))\n",
    "    model.add(Dropout(0.2))\n",
    "    model.add(Dense(1000, activation='relu'))\n",
    "    model.add(Dropout(0.2))\n",
    "    model.add(Dense(500, activation='relu'))\n",
    "    model.add(Dropout(0.2))\n",
    "    model.add(Dense(250, activation='relu'))\n",
    "    model.add(Dropout(0.2))\n",
    "    model.add(Dense(4, activation='softmax'))\n",
    "\n",
    "    # categorical entropy for the softmax\n",
    "    model.compile(loss='categorical_crossentropy', optimizer='adam', metrics=['accuracy'])\n",
    "\n",
    "    # No specific reason for number of epochs or batch size.\n",
    "    history = model.fit(x=X, y=y,\n",
    "                        epochs=100,\n",
    "                        batch_size=20,\n",
    "                        validation_split=0.2,\n",
    "                        )\n",
    "\n",
    "    # list all data in history\n",
    "    print(history.history.keys())\n",
    "    # summarize history for accuracy\n",
    "    plt.plot(history.history['accuracy'])\n",
    "    plt.plot(history.history['val_accuracy'])\n",
    "    plt.title('model accuracy')\n",
    "    plt.ylabel('accuracy')\n",
    "    plt.xlabel('epoch')\n",
    "    plt.legend(['train', 'test'], loc='upper left')\n",
    "    plt.show()\n",
    "    # summarize history for loss\n",
    "    plt.plot(history.history['loss'])\n",
    "    plt.plot(history.history['val_loss'])\n",
    "    plt.title('model loss')\n",
    "    plt.ylabel('loss')\n",
    "    plt.xlabel('epoch')\n",
    "    plt.legend(['train', 'test'], loc='upper left')\n",
    "    plt.show()\n",
    "seq_nn(X_train_ss, y_train_hot)"
   ]
  },
  {
   "cell_type": "markdown",
   "metadata": {},
   "source": [
    "### RESAMPLING THE DATA\n",
    " - Incorporating synthetic data using SMOTE to help rebalance the class which creates data with noise by using nearest neighbors to create the data.\n"
   ]
  },
  {
   "cell_type": "code",
   "execution_count": 15,
   "metadata": {},
   "outputs": [],
   "source": [
    "sm = SMOTE(random_state=42)\n",
    "\n",
    "X_train_res, y_train_res = sm.fit_sample(X_train_ss, y_train_hot)"
   ]
  },
  {
   "cell_type": "code",
   "execution_count": 16,
   "metadata": {},
   "outputs": [
    {
     "name": "stdout",
     "output_type": "stream",
     "text": [
      "(26532, 44) (26532, 4)\n"
     ]
    }
   ],
   "source": [
    "print(X_train_res.shape, y_train_res.shape)"
   ]
  },
  {
   "cell_type": "code",
   "execution_count": 17,
   "metadata": {},
   "outputs": [
    {
     "name": "stdout",
     "output_type": "stream",
     "text": [
      "Train on 21225 samples, validate on 5307 samples\n",
      "Epoch 1/100\n",
      "21225/21225 [==============================] - 11s 536us/step - loss: 1.2410 - accuracy: 0.4210 - val_loss: 2.4288 - val_accuracy: 0.0156\n",
      "Epoch 2/100\n",
      "21225/21225 [==============================] - 10s 493us/step - loss: 1.2125 - accuracy: 0.4379 - val_loss: 2.4031 - val_accuracy: 0.0187\n",
      "Epoch 3/100\n",
      "21225/21225 [==============================] - 11s 495us/step - loss: 1.2017 - accuracy: 0.4473 - val_loss: 2.5419 - val_accuracy: 0.0164\n",
      "Epoch 4/100\n",
      "21225/21225 [==============================] - 11s 500us/step - loss: 1.1950 - accuracy: 0.4538 - val_loss: 2.3788 - val_accuracy: 0.0277\n",
      "Epoch 5/100\n",
      "21225/21225 [==============================] - 11s 500us/step - loss: 1.1885 - accuracy: 0.4582 - val_loss: 2.2929 - val_accuracy: 0.0168\n",
      "Epoch 6/100\n",
      "21225/21225 [==============================] - 11s 503us/step - loss: 1.1809 - accuracy: 0.4637 - val_loss: 2.3460 - val_accuracy: 0.0188\n",
      "Epoch 7/100\n",
      "21225/21225 [==============================] - 11s 499us/step - loss: 1.1736 - accuracy: 0.4693 - val_loss: 2.2821 - val_accuracy: 0.0211\n",
      "Epoch 8/100\n",
      "21225/21225 [==============================] - 11s 511us/step - loss: 1.1710 - accuracy: 0.4732 - val_loss: 2.4088 - val_accuracy: 0.0220\n",
      "Epoch 9/100\n",
      "21225/21225 [==============================] - 11s 503us/step - loss: 1.1645 - accuracy: 0.4750 - val_loss: 2.3553 - val_accuracy: 0.0283\n",
      "Epoch 10/100\n",
      "21225/21225 [==============================] - 11s 511us/step - loss: 1.1575 - accuracy: 0.4831 - val_loss: 2.4046 - val_accuracy: 0.0296\n",
      "Epoch 11/100\n",
      "21225/21225 [==============================] - 11s 499us/step - loss: 1.1507 - accuracy: 0.4847 - val_loss: 2.3034 - val_accuracy: 0.0279\n",
      "Epoch 12/100\n",
      "21225/21225 [==============================] - 11s 500us/step - loss: 1.1451 - accuracy: 0.4886 - val_loss: 2.3023 - val_accuracy: 0.0354\n",
      "Epoch 13/100\n",
      "21225/21225 [==============================] - 11s 519us/step - loss: 1.1401 - accuracy: 0.4940 - val_loss: 2.3874 - val_accuracy: 0.0239\n",
      "Epoch 14/100\n",
      "21225/21225 [==============================] - 10s 491us/step - loss: 1.1289 - accuracy: 0.5020 - val_loss: 2.3045 - val_accuracy: 0.0334\n",
      "Epoch 15/100\n",
      "21225/21225 [==============================] - 11s 512us/step - loss: 1.1229 - accuracy: 0.5041 - val_loss: 2.3092 - val_accuracy: 0.0334\n",
      "Epoch 16/100\n",
      "21225/21225 [==============================] - 11s 498us/step - loss: 1.1155 - accuracy: 0.5060 - val_loss: 2.2783 - val_accuracy: 0.0332\n",
      "Epoch 17/100\n",
      "21225/21225 [==============================] - 11s 502us/step - loss: 1.1089 - accuracy: 0.5159 - val_loss: 2.2795 - val_accuracy: 0.0339\n",
      "Epoch 18/100\n",
      "21225/21225 [==============================] - 11s 512us/step - loss: 1.1041 - accuracy: 0.5158 - val_loss: 2.3148 - val_accuracy: 0.0292\n",
      "Epoch 19/100\n",
      "21225/21225 [==============================] - 11s 512us/step - loss: 1.0961 - accuracy: 0.5230 - val_loss: 2.3346 - val_accuracy: 0.0384\n",
      "Epoch 20/100\n",
      "21225/21225 [==============================] - 11s 515us/step - loss: 1.0865 - accuracy: 0.5255 - val_loss: 2.3214 - val_accuracy: 0.0366\n",
      "Epoch 21/100\n",
      "21225/21225 [==============================] - 11s 521us/step - loss: 1.0804 - accuracy: 0.5290 - val_loss: 2.2960 - val_accuracy: 0.0401\n",
      "Epoch 22/100\n",
      "21225/21225 [==============================] - 12s 549us/step - loss: 1.0764 - accuracy: 0.5347 - val_loss: 2.4087 - val_accuracy: 0.0383\n",
      "Epoch 23/100\n",
      "21225/21225 [==============================] - 11s 517us/step - loss: 1.0655 - accuracy: 0.5382 - val_loss: 2.3087 - val_accuracy: 0.0366\n",
      "Epoch 24/100\n",
      "21225/21225 [==============================] - 12s 542us/step - loss: 1.0631 - accuracy: 0.5380 - val_loss: 2.1779 - val_accuracy: 0.0411\n",
      "Epoch 25/100\n",
      "21225/21225 [==============================] - 12s 560us/step - loss: 1.0534 - accuracy: 0.5440 - val_loss: 2.2413 - val_accuracy: 0.0452\n",
      "Epoch 26/100\n",
      "21225/21225 [==============================] - 11s 528us/step - loss: 1.0507 - accuracy: 0.5486 - val_loss: 2.1474 - val_accuracy: 0.0458\n",
      "Epoch 27/100\n",
      "21225/21225 [==============================] - 11s 529us/step - loss: 1.0471 - accuracy: 0.5455 - val_loss: 2.2189 - val_accuracy: 0.0403\n",
      "Epoch 28/100\n",
      "21225/21225 [==============================] - 12s 568us/step - loss: 1.0361 - accuracy: 0.5515 - val_loss: 2.2318 - val_accuracy: 0.0513\n",
      "Epoch 29/100\n",
      "21225/21225 [==============================] - 11s 511us/step - loss: 1.0359 - accuracy: 0.5536 - val_loss: 2.1698 - val_accuracy: 0.0479\n",
      "Epoch 30/100\n",
      "21225/21225 [==============================] - 11s 504us/step - loss: 1.0269 - accuracy: 0.5595 - val_loss: 2.1104 - val_accuracy: 0.0465\n",
      "Epoch 31/100\n",
      "21225/21225 [==============================] - 11s 538us/step - loss: 1.0165 - accuracy: 0.5620 - val_loss: 2.0826 - val_accuracy: 0.0597\n",
      "Epoch 32/100\n",
      "21225/21225 [==============================] - 10s 479us/step - loss: 1.0143 - accuracy: 0.5696 - val_loss: 2.1255 - val_accuracy: 0.0514\n",
      "Epoch 33/100\n",
      "21225/21225 [==============================] - 10s 486us/step - loss: 1.0091 - accuracy: 0.5698 - val_loss: 2.1058 - val_accuracy: 0.0552\n",
      "Epoch 34/100\n",
      "21225/21225 [==============================] - 10s 474us/step - loss: 1.0049 - accuracy: 0.5663 - val_loss: 2.0720 - val_accuracy: 0.0554\n",
      "Epoch 35/100\n",
      "21225/21225 [==============================] - 10s 471us/step - loss: 1.0007 - accuracy: 0.5692 - val_loss: 2.1936 - val_accuracy: 0.0479\n",
      "Epoch 36/100\n",
      "21225/21225 [==============================] - 10s 470us/step - loss: 1.0012 - accuracy: 0.5716 - val_loss: 2.0378 - val_accuracy: 0.0739\n",
      "Epoch 37/100\n",
      "21225/21225 [==============================] - 10s 469us/step - loss: 0.9944 - accuracy: 0.5788 - val_loss: 2.1422 - val_accuracy: 0.0507\n",
      "Epoch 38/100\n",
      "21225/21225 [==============================] - 10s 470us/step - loss: 0.9801 - accuracy: 0.5798 - val_loss: 2.0525 - val_accuracy: 0.0673\n",
      "Epoch 39/100\n",
      "21225/21225 [==============================] - 10s 482us/step - loss: 0.9828 - accuracy: 0.5804 - val_loss: 2.1441 - val_accuracy: 0.0612\n",
      "Epoch 40/100\n",
      "21225/21225 [==============================] - 10s 470us/step - loss: 0.9803 - accuracy: 0.5799 - val_loss: 2.0543 - val_accuracy: 0.0731\n",
      "Epoch 41/100\n",
      "21225/21225 [==============================] - 11s 513us/step - loss: 0.9769 - accuracy: 0.5835 - val_loss: 2.0999 - val_accuracy: 0.0661\n",
      "Epoch 42/100\n",
      "21225/21225 [==============================] - 11s 515us/step - loss: 0.9658 - accuracy: 0.5916 - val_loss: 2.0778 - val_accuracy: 0.0622\n",
      "Epoch 43/100\n",
      "21225/21225 [==============================] - 10s 486us/step - loss: 0.9656 - accuracy: 0.5875 - val_loss: 2.1135 - val_accuracy: 0.0592\n",
      "Epoch 44/100\n",
      "21225/21225 [==============================] - 10s 482us/step - loss: 0.9597 - accuracy: 0.5908 - val_loss: 2.1043 - val_accuracy: 0.0684\n",
      "Epoch 45/100\n",
      "21225/21225 [==============================] - 10s 472us/step - loss: 0.9576 - accuracy: 0.5947 - val_loss: 2.0622 - val_accuracy: 0.0699\n",
      "Epoch 46/100\n",
      "21225/21225 [==============================] - 10s 491us/step - loss: 0.9530 - accuracy: 0.5946 - val_loss: 2.0655 - val_accuracy: 0.0797\n",
      "Epoch 47/100\n",
      "21225/21225 [==============================] - 11s 516us/step - loss: 0.9474 - accuracy: 0.5981 - val_loss: 2.0996 - val_accuracy: 0.0803\n",
      "Epoch 48/100\n",
      "21225/21225 [==============================] - 10s 483us/step - loss: 0.9438 - accuracy: 0.5966 - val_loss: 2.0483 - val_accuracy: 0.0850\n",
      "Epoch 49/100\n",
      "21225/21225 [==============================] - 11s 500us/step - loss: 0.9359 - accuracy: 0.6036 - val_loss: 1.9624 - val_accuracy: 0.0795\n",
      "Epoch 50/100\n",
      "21225/21225 [==============================] - 10s 480us/step - loss: 0.9388 - accuracy: 0.6026 - val_loss: 2.0805 - val_accuracy: 0.0686\n",
      "Epoch 51/100\n",
      "21225/21225 [==============================] - 11s 498us/step - loss: 0.9295 - accuracy: 0.6074 - val_loss: 1.9341 - val_accuracy: 0.0959\n",
      "Epoch 52/100\n",
      "21225/21225 [==============================] - 11s 504us/step - loss: 0.9276 - accuracy: 0.6069 - val_loss: 1.9308 - val_accuracy: 0.0972\n",
      "Epoch 53/100\n",
      "21225/21225 [==============================] - 11s 537us/step - loss: 0.9283 - accuracy: 0.6065 - val_loss: 1.9714 - val_accuracy: 0.0921\n",
      "Epoch 54/100\n",
      "21225/21225 [==============================] - 11s 500us/step - loss: 0.9180 - accuracy: 0.6156 - val_loss: 2.0559 - val_accuracy: 0.0816\n"
     ]
    },
    {
     "name": "stdout",
     "output_type": "stream",
     "text": [
      "Epoch 55/100\n",
      "21225/21225 [==============================] - 10s 486us/step - loss: 0.9192 - accuracy: 0.6122 - val_loss: 2.0610 - val_accuracy: 0.0842\n",
      "Epoch 56/100\n",
      "21225/21225 [==============================] - 10s 473us/step - loss: 0.9167 - accuracy: 0.6119 - val_loss: 2.0079 - val_accuracy: 0.0735\n",
      "Epoch 57/100\n",
      "21225/21225 [==============================] - 10s 468us/step - loss: 0.9134 - accuracy: 0.6165 - val_loss: 2.0392 - val_accuracy: 0.0863\n",
      "Epoch 58/100\n",
      "21225/21225 [==============================] - 11s 531us/step - loss: 0.9044 - accuracy: 0.6167 - val_loss: 1.9004 - val_accuracy: 0.1104\n",
      "Epoch 59/100\n",
      "21225/21225 [==============================] - 11s 517us/step - loss: 0.9093 - accuracy: 0.6191 - val_loss: 1.9087 - val_accuracy: 0.1083\n",
      "Epoch 60/100\n",
      "21225/21225 [==============================] - 11s 520us/step - loss: 0.8996 - accuracy: 0.6197 - val_loss: 1.9189 - val_accuracy: 0.1031\n",
      "Epoch 61/100\n",
      "21225/21225 [==============================] - 11s 533us/step - loss: 0.8954 - accuracy: 0.6166 - val_loss: 1.9526 - val_accuracy: 0.1018\n",
      "Epoch 62/100\n",
      "21225/21225 [==============================] - 11s 525us/step - loss: 0.8963 - accuracy: 0.6242 - val_loss: 1.9314 - val_accuracy: 0.1097\n",
      "Epoch 63/100\n",
      "21225/21225 [==============================] - 10s 486us/step - loss: 0.8966 - accuracy: 0.6230 - val_loss: 1.9792 - val_accuracy: 0.1059\n",
      "Epoch 64/100\n",
      "21225/21225 [==============================] - 11s 514us/step - loss: 0.8887 - accuracy: 0.6277 - val_loss: 2.0075 - val_accuracy: 0.0803\n",
      "Epoch 65/100\n",
      "21225/21225 [==============================] - 11s 503us/step - loss: 0.8806 - accuracy: 0.6265 - val_loss: 1.8273 - val_accuracy: 0.1530\n",
      "Epoch 66/100\n",
      "21225/21225 [==============================] - 10s 484us/step - loss: 0.8832 - accuracy: 0.6288 - val_loss: 1.8000 - val_accuracy: 0.1208\n",
      "Epoch 67/100\n",
      "21225/21225 [==============================] - 10s 481us/step - loss: 0.8818 - accuracy: 0.6292 - val_loss: 1.9336 - val_accuracy: 0.1136\n",
      "Epoch 68/100\n",
      "21225/21225 [==============================] - 10s 470us/step - loss: 0.8798 - accuracy: 0.6284 - val_loss: 1.8494 - val_accuracy: 0.1434\n",
      "Epoch 69/100\n",
      "21225/21225 [==============================] - 10s 483us/step - loss: 0.8715 - accuracy: 0.6308 - val_loss: 1.8751 - val_accuracy: 0.1210\n",
      "Epoch 70/100\n",
      "21225/21225 [==============================] - 10s 478us/step - loss: 0.8769 - accuracy: 0.6291 - val_loss: 1.9060 - val_accuracy: 0.1230\n",
      "Epoch 71/100\n",
      "21225/21225 [==============================] - 11s 512us/step - loss: 0.8775 - accuracy: 0.6333 - val_loss: 1.8231 - val_accuracy: 0.1408\n",
      "Epoch 72/100\n",
      "21225/21225 [==============================] - 12s 547us/step - loss: 0.8646 - accuracy: 0.6388 - val_loss: 1.8824 - val_accuracy: 0.1251\n",
      "Epoch 73/100\n",
      "21225/21225 [==============================] - 11s 527us/step - loss: 0.8676 - accuracy: 0.6352 - val_loss: 1.9289 - val_accuracy: 0.1227\n",
      "Epoch 74/100\n",
      "21225/21225 [==============================] - 11s 521us/step - loss: 0.8637 - accuracy: 0.6337 - val_loss: 1.8207 - val_accuracy: 0.1202\n",
      "Epoch 75/100\n",
      "21225/21225 [==============================] - 11s 505us/step - loss: 0.8528 - accuracy: 0.6393 - val_loss: 1.8835 - val_accuracy: 0.1393\n",
      "Epoch 76/100\n",
      "21225/21225 [==============================] - 11s 505us/step - loss: 0.8639 - accuracy: 0.6384 - val_loss: 1.7662 - val_accuracy: 0.1372\n",
      "Epoch 77/100\n",
      "21225/21225 [==============================] - 12s 544us/step - loss: 0.8536 - accuracy: 0.6442 - val_loss: 1.8407 - val_accuracy: 0.1359\n",
      "Epoch 78/100\n",
      "21225/21225 [==============================] - 12s 543us/step - loss: 0.8571 - accuracy: 0.6404 - val_loss: 1.8360 - val_accuracy: 0.1238\n",
      "Epoch 79/100\n",
      "21225/21225 [==============================] - 11s 537us/step - loss: 0.8568 - accuracy: 0.6385 - val_loss: 1.7982 - val_accuracy: 0.1272\n",
      "Epoch 80/100\n",
      "21225/21225 [==============================] - 11s 542us/step - loss: 0.8506 - accuracy: 0.6410 - val_loss: 1.8125 - val_accuracy: 0.1428\n",
      "Epoch 81/100\n",
      "21225/21225 [==============================] - 12s 555us/step - loss: 0.8501 - accuracy: 0.6420 - val_loss: 1.7522 - val_accuracy: 0.1833\n",
      "Epoch 82/100\n",
      "21225/21225 [==============================] - 11s 509us/step - loss: 0.8463 - accuracy: 0.6476 - val_loss: 1.7320 - val_accuracy: 0.1764\n",
      "Epoch 83/100\n",
      "21225/21225 [==============================] - 11s 523us/step - loss: 0.8418 - accuracy: 0.6447 - val_loss: 1.7252 - val_accuracy: 0.1666\n",
      "Epoch 84/100\n",
      "21225/21225 [==============================] - 11s 507us/step - loss: 0.8394 - accuracy: 0.6505 - val_loss: 1.7231 - val_accuracy: 0.2033\n",
      "Epoch 85/100\n",
      "21225/21225 [==============================] - 11s 511us/step - loss: 0.8395 - accuracy: 0.6507 - val_loss: 1.7858 - val_accuracy: 0.1816\n",
      "Epoch 86/100\n",
      "21225/21225 [==============================] - 11s 511us/step - loss: 0.8313 - accuracy: 0.6509 - val_loss: 1.8162 - val_accuracy: 0.1417\n",
      "Epoch 87/100\n",
      "21225/21225 [==============================] - 11s 514us/step - loss: 0.8342 - accuracy: 0.6520 - val_loss: 1.7386 - val_accuracy: 0.1643\n",
      "Epoch 88/100\n",
      "21225/21225 [==============================] - 11s 515us/step - loss: 0.8285 - accuracy: 0.6504 - val_loss: 1.7235 - val_accuracy: 0.1739\n",
      "Epoch 89/100\n",
      "21225/21225 [==============================] - 11s 520us/step - loss: 0.8235 - accuracy: 0.6581 - val_loss: 1.8048 - val_accuracy: 0.1590\n",
      "Epoch 90/100\n",
      "21225/21225 [==============================] - 11s 519us/step - loss: 0.8233 - accuracy: 0.6583 - val_loss: 1.7300 - val_accuracy: 0.1585\n",
      "Epoch 91/100\n",
      "21225/21225 [==============================] - 11s 528us/step - loss: 0.8273 - accuracy: 0.6545 - val_loss: 1.8088 - val_accuracy: 0.1626\n",
      "Epoch 92/100\n",
      "21225/21225 [==============================] - 12s 553us/step - loss: 0.8296 - accuracy: 0.6571 - val_loss: 1.7626 - val_accuracy: 0.1609\n",
      "Epoch 93/100\n",
      "21225/21225 [==============================] - 11s 518us/step - loss: 0.8245 - accuracy: 0.6562 - val_loss: 1.7484 - val_accuracy: 0.1534\n",
      "Epoch 94/100\n",
      "21225/21225 [==============================] - 11s 529us/step - loss: 0.8193 - accuracy: 0.6596 - val_loss: 1.8210 - val_accuracy: 0.1758\n",
      "Epoch 95/100\n",
      "21225/21225 [==============================] - 12s 557us/step - loss: 0.8177 - accuracy: 0.6596 - val_loss: 1.7857 - val_accuracy: 0.1679\n",
      "Epoch 96/100\n",
      "21225/21225 [==============================] - 11s 522us/step - loss: 0.8162 - accuracy: 0.6581 - val_loss: 1.8379 - val_accuracy: 0.1483\n",
      "Epoch 97/100\n",
      "21225/21225 [==============================] - 11s 519us/step - loss: 0.8107 - accuracy: 0.6600 - val_loss: 1.8630 - val_accuracy: 0.1402\n",
      "Epoch 98/100\n",
      "21225/21225 [==============================] - 12s 556us/step - loss: 0.8176 - accuracy: 0.6583 - val_loss: 1.7566 - val_accuracy: 0.1809\n",
      "Epoch 99/100\n",
      "21225/21225 [==============================] - 11s 526us/step - loss: 0.8121 - accuracy: 0.6626 - val_loss: 1.7272 - val_accuracy: 0.1792\n",
      "Epoch 100/100\n",
      "21225/21225 [==============================] - 11s 525us/step - loss: 0.8112 - accuracy: 0.6639 - val_loss: 1.6982 - val_accuracy: 0.2135\n",
      "dict_keys(['val_loss', 'val_accuracy', 'loss', 'accuracy'])\n"
     ]
    },
    {
     "data": {
      "image/png": "[encoded data removed]",
      "text/plain": [
       "<Figure size 432x288 with 1 Axes>"
      ]
     },
     "metadata": {
      "needs_background": "light"
     },
     "output_type": "display_data"
    },
    {
     "data": {
      "image/png": "[encoded data removed]",
      "text/plain": [
       "<Figure size 432x288 with 1 Axes>"
      ]
     },
     "metadata": {
      "needs_background": "light"
     },
     "output_type": "display_data"
    }
   ],
   "source": [
    "seq_nn(X_train_res, y_train_res)"
   ]
  },
  {
   "cell_type": "code",
   "execution_count": 18,
   "metadata": {},
   "outputs": [],
   "source": [
    "bs = BorderlineSMOTE(random_state=42)\n",
    "X_train_bs, y_train_bs = bs.fit_resample(X_train_ss, y_train_hot)"
   ]
  },
  {
   "cell_type": "code",
   "execution_count": 19,
   "metadata": {
    "scrolled": false
   },
   "outputs": [
    {
     "name": "stdout",
     "output_type": "stream",
     "text": [
      "Train on 21225 samples, validate on 5307 samples\n",
      "Epoch 1/100\n",
      "21225/21225 [==============================] - 11s 530us/step - loss: 1.2378 - accuracy: 0.4309 - val_loss: 2.2311 - val_accuracy: 0.0239\n",
      "Epoch 2/100\n",
      "21225/21225 [==============================] - 11s 506us/step - loss: 1.2107 - accuracy: 0.4501 - val_loss: 2.5453 - val_accuracy: 0.0194\n",
      "Epoch 3/100\n",
      "21225/21225 [==============================] - 11s 517us/step - loss: 1.2017 - accuracy: 0.4541 - val_loss: 2.2940 - val_accuracy: 0.0298\n",
      "Epoch 4/100\n",
      "21225/21225 [==============================] - 11s 510us/step - loss: 1.1912 - accuracy: 0.4618 - val_loss: 2.3053 - val_accuracy: 0.0247\n",
      "Epoch 5/100\n",
      "21225/21225 [==============================] - 11s 512us/step - loss: 1.1867 - accuracy: 0.4671 - val_loss: 2.2474 - val_accuracy: 0.0350\n",
      "Epoch 6/100\n",
      "21225/21225 [==============================] - 11s 510us/step - loss: 1.1783 - accuracy: 0.4704 - val_loss: 2.3629 - val_accuracy: 0.0249\n",
      "Epoch 7/100\n",
      "21225/21225 [==============================] - 11s 516us/step - loss: 1.1740 - accuracy: 0.4753 - val_loss: 2.2676 - val_accuracy: 0.0317\n",
      "Epoch 8/100\n",
      "21225/21225 [==============================] - 12s 565us/step - loss: 1.1642 - accuracy: 0.4814 - val_loss: 2.3503 - val_accuracy: 0.0241\n",
      "Epoch 9/100\n",
      "21225/21225 [==============================] - 11s 526us/step - loss: 1.1558 - accuracy: 0.4873 - val_loss: 2.3955 - val_accuracy: 0.0352\n",
      "Epoch 10/100\n",
      "21225/21225 [==============================] - 11s 516us/step - loss: 1.1469 - accuracy: 0.4913 - val_loss: 2.2702 - val_accuracy: 0.0334\n",
      "Epoch 11/100\n",
      "21225/21225 [==============================] - 11s 518us/step - loss: 1.1390 - accuracy: 0.4988 - val_loss: 2.2837 - val_accuracy: 0.0352\n",
      "Epoch 12/100\n",
      "21225/21225 [==============================] - 11s 517us/step - loss: 1.1312 - accuracy: 0.5061 - val_loss: 2.3172 - val_accuracy: 0.0398\n",
      "Epoch 13/100\n",
      "21225/21225 [==============================] - 12s 551us/step - loss: 1.1239 - accuracy: 0.5053 - val_loss: 2.2056 - val_accuracy: 0.0369\n",
      "Epoch 14/100\n",
      "21225/21225 [==============================] - 10s 483us/step - loss: 1.1169 - accuracy: 0.5096 - val_loss: 2.1899 - val_accuracy: 0.0403\n",
      "Epoch 15/100\n",
      "21225/21225 [==============================] - 13s 615us/step - loss: 1.1084 - accuracy: 0.5185 - val_loss: 2.2335 - val_accuracy: 0.0405\n",
      "Epoch 16/100\n",
      "21225/21225 [==============================] - 12s 550us/step - loss: 1.1027 - accuracy: 0.5198 - val_loss: 2.2852 - val_accuracy: 0.0422\n",
      "Epoch 17/100\n",
      "21225/21225 [==============================] - 10s 494us/step - loss: 1.0965 - accuracy: 0.5201 - val_loss: 2.1790 - val_accuracy: 0.0388\n",
      "Epoch 18/100\n",
      "21225/21225 [==============================] - 11s 540us/step - loss: 1.0897 - accuracy: 0.5250 - val_loss: 2.3314 - val_accuracy: 0.0430\n",
      "Epoch 19/100\n",
      "21225/21225 [==============================] - 11s 506us/step - loss: 1.0764 - accuracy: 0.5346 - val_loss: 2.2828 - val_accuracy: 0.0418\n",
      "Epoch 20/100\n",
      "21225/21225 [==============================] - 11s 509us/step - loss: 1.0721 - accuracy: 0.5365 - val_loss: 2.3055 - val_accuracy: 0.0411\n",
      "Epoch 21/100\n",
      "21225/21225 [==============================] - 11s 506us/step - loss: 1.0625 - accuracy: 0.5417 - val_loss: 2.1076 - val_accuracy: 0.0445\n",
      "Epoch 22/100\n",
      "21225/21225 [==============================] - 11s 532us/step - loss: 1.0581 - accuracy: 0.5468 - val_loss: 2.3276 - val_accuracy: 0.0407\n",
      "Epoch 23/100\n",
      "21225/21225 [==============================] - 11s 532us/step - loss: 1.0505 - accuracy: 0.5488 - val_loss: 2.2366 - val_accuracy: 0.0480\n",
      "Epoch 24/100\n",
      "21225/21225 [==============================] - 11s 516us/step - loss: 1.0445 - accuracy: 0.5543 - val_loss: 2.1422 - val_accuracy: 0.0533\n",
      "Epoch 25/100\n",
      "21225/21225 [==============================] - 11s 519us/step - loss: 1.0393 - accuracy: 0.5551 - val_loss: 2.1828 - val_accuracy: 0.0362\n",
      "Epoch 26/100\n",
      "21225/21225 [==============================] - 11s 517us/step - loss: 1.0361 - accuracy: 0.5568 - val_loss: 2.1269 - val_accuracy: 0.0475\n",
      "Epoch 27/100\n",
      "21225/21225 [==============================] - 11s 521us/step - loss: 1.0258 - accuracy: 0.5628 - val_loss: 2.0441 - val_accuracy: 0.0573\n",
      "Epoch 28/100\n",
      "21225/21225 [==============================] - 11s 519us/step - loss: 1.0187 - accuracy: 0.5614 - val_loss: 2.0951 - val_accuracy: 0.0473\n",
      "Epoch 29/100\n",
      "21225/21225 [==============================] - 11s 525us/step - loss: 1.0115 - accuracy: 0.5688 - val_loss: 2.1025 - val_accuracy: 0.0441\n",
      "Epoch 30/100\n",
      "21225/21225 [==============================] - 11s 525us/step - loss: 1.0030 - accuracy: 0.5754 - val_loss: 2.1712 - val_accuracy: 0.0452\n",
      "Epoch 31/100\n",
      "21225/21225 [==============================] - 11s 527us/step - loss: 0.9982 - accuracy: 0.5738 - val_loss: 2.0496 - val_accuracy: 0.0479\n",
      "Epoch 32/100\n",
      "21225/21225 [==============================] - 11s 510us/step - loss: 0.9974 - accuracy: 0.5766 - val_loss: 2.1006 - val_accuracy: 0.0652\n",
      "Epoch 33/100\n",
      "21225/21225 [==============================] - 11s 514us/step - loss: 0.9862 - accuracy: 0.5819 - val_loss: 2.1512 - val_accuracy: 0.0526\n",
      "Epoch 34/100\n",
      "21225/21225 [==============================] - 11s 523us/step - loss: 0.9833 - accuracy: 0.5858 - val_loss: 2.1561 - val_accuracy: 0.0563\n",
      "Epoch 35/100\n",
      "21225/21225 [==============================] - 11s 540us/step - loss: 0.9762 - accuracy: 0.5862 - val_loss: 1.9996 - val_accuracy: 0.0601\n",
      "Epoch 36/100\n",
      "21225/21225 [==============================] - 11s 516us/step - loss: 0.9711 - accuracy: 0.5881 - val_loss: 2.0992 - val_accuracy: 0.0554\n",
      "Epoch 37/100\n",
      "21225/21225 [==============================] - 11s 503us/step - loss: 0.9661 - accuracy: 0.5912 - val_loss: 1.9385 - val_accuracy: 0.0686\n",
      "Epoch 38/100\n",
      "21225/21225 [==============================] - 11s 505us/step - loss: 0.9652 - accuracy: 0.5924 - val_loss: 2.0460 - val_accuracy: 0.0616\n",
      "Epoch 39/100\n",
      "21225/21225 [==============================] - 11s 504us/step - loss: 0.9548 - accuracy: 0.5953 - val_loss: 1.9795 - val_accuracy: 0.0641\n",
      "Epoch 40/100\n",
      "21225/21225 [==============================] - 11s 507us/step - loss: 0.9578 - accuracy: 0.5957 - val_loss: 1.9967 - val_accuracy: 0.0739\n",
      "Epoch 41/100\n",
      "21225/21225 [==============================] - 11s 507us/step - loss: 0.9491 - accuracy: 0.5983 - val_loss: 2.0178 - val_accuracy: 0.0667\n",
      "Epoch 42/100\n",
      "21225/21225 [==============================] - 11s 516us/step - loss: 0.9411 - accuracy: 0.6032 - val_loss: 2.0284 - val_accuracy: 0.0744\n",
      "Epoch 43/100\n",
      "21225/21225 [==============================] - 11s 525us/step - loss: 0.9390 - accuracy: 0.6034 - val_loss: 1.8413 - val_accuracy: 0.1001\n",
      "Epoch 44/100\n",
      "21225/21225 [==============================] - 11s 522us/step - loss: 0.9352 - accuracy: 0.6088 - val_loss: 1.9693 - val_accuracy: 0.0665\n",
      "Epoch 45/100\n",
      "21225/21225 [==============================] - 11s 511us/step - loss: 0.9305 - accuracy: 0.6076 - val_loss: 2.0256 - val_accuracy: 0.0714\n",
      "Epoch 46/100\n",
      "21225/21225 [==============================] - 11s 519us/step - loss: 0.9244 - accuracy: 0.6110 - val_loss: 1.8070 - val_accuracy: 0.1033\n",
      "Epoch 47/100\n",
      "21225/21225 [==============================] - 12s 553us/step - loss: 0.9267 - accuracy: 0.6091 - val_loss: 1.8962 - val_accuracy: 0.0959\n",
      "Epoch 48/100\n",
      "21225/21225 [==============================] - 11s 539us/step - loss: 0.9135 - accuracy: 0.6196 - val_loss: 2.0742 - val_accuracy: 0.0611\n",
      "Epoch 49/100\n",
      "21225/21225 [==============================] - 11s 526us/step - loss: 0.9152 - accuracy: 0.6168 - val_loss: 1.9877 - val_accuracy: 0.1044\n",
      "Epoch 50/100\n",
      "21225/21225 [==============================] - 11s 527us/step - loss: 0.9135 - accuracy: 0.6175 - val_loss: 1.8394 - val_accuracy: 0.1191\n",
      "Epoch 51/100\n",
      "21225/21225 [==============================] - 11s 520us/step - loss: 0.9095 - accuracy: 0.6188 - val_loss: 1.8694 - val_accuracy: 0.0923\n",
      "Epoch 52/100\n",
      "21225/21225 [==============================] - 11s 525us/step - loss: 0.9022 - accuracy: 0.6246 - val_loss: 1.9035 - val_accuracy: 0.1074\n",
      "Epoch 53/100\n",
      "21225/21225 [==============================] - 11s 532us/step - loss: 0.8982 - accuracy: 0.6249 - val_loss: 2.0042 - val_accuracy: 0.0837\n",
      "Epoch 54/100\n",
      "21225/21225 [==============================] - 12s 561us/step - loss: 0.8982 - accuracy: 0.6253 - val_loss: 1.8863 - val_accuracy: 0.0933\n"
     ]
    },
    {
     "name": "stdout",
     "output_type": "stream",
     "text": [
      "Epoch 55/100\n",
      "21225/21225 [==============================] - 11s 503us/step - loss: 0.8950 - accuracy: 0.6271 - val_loss: 1.8358 - val_accuracy: 0.1246\n",
      "Epoch 56/100\n",
      "21225/21225 [==============================] - 11s 503us/step - loss: 0.8877 - accuracy: 0.6279 - val_loss: 1.7293 - val_accuracy: 0.1315\n",
      "Epoch 57/100\n",
      "21225/21225 [==============================] - 11s 533us/step - loss: 0.8877 - accuracy: 0.6277 - val_loss: 1.8605 - val_accuracy: 0.1082\n",
      "Epoch 58/100\n",
      "21225/21225 [==============================] - 11s 526us/step - loss: 0.8841 - accuracy: 0.6289 - val_loss: 1.7482 - val_accuracy: 0.1581\n",
      "Epoch 59/100\n",
      "21225/21225 [==============================] - 11s 510us/step - loss: 0.8751 - accuracy: 0.6356 - val_loss: 1.8523 - val_accuracy: 0.1074\n",
      "Epoch 60/100\n",
      "21225/21225 [==============================] - 11s 521us/step - loss: 0.8796 - accuracy: 0.6359 - val_loss: 1.7291 - val_accuracy: 0.1455\n",
      "Epoch 61/100\n",
      "21225/21225 [==============================] - 12s 543us/step - loss: 0.8729 - accuracy: 0.6372 - val_loss: 1.7718 - val_accuracy: 0.1524\n",
      "Epoch 62/100\n",
      "21225/21225 [==============================] - 11s 511us/step - loss: 0.8704 - accuracy: 0.6362 - val_loss: 1.9413 - val_accuracy: 0.1006\n",
      "Epoch 63/100\n",
      "21225/21225 [==============================] - 11s 516us/step - loss: 0.8672 - accuracy: 0.6378 - val_loss: 1.7102 - val_accuracy: 0.1619\n",
      "Epoch 64/100\n",
      "21225/21225 [==============================] - 11s 523us/step - loss: 0.8650 - accuracy: 0.6408 - val_loss: 1.7384 - val_accuracy: 0.1596\n",
      "Epoch 65/100\n",
      "21225/21225 [==============================] - 11s 535us/step - loss: 0.8639 - accuracy: 0.6402 - val_loss: 1.7990 - val_accuracy: 0.1347\n",
      "Epoch 66/100\n",
      "21225/21225 [==============================] - 12s 554us/step - loss: 0.8582 - accuracy: 0.6435 - val_loss: 1.8933 - val_accuracy: 0.1185\n",
      "Epoch 67/100\n",
      "21225/21225 [==============================] - 11s 505us/step - loss: 0.8591 - accuracy: 0.6395 - val_loss: 1.8265 - val_accuracy: 0.1609\n",
      "Epoch 68/100\n",
      "21225/21225 [==============================] - 11s 510us/step - loss: 0.8573 - accuracy: 0.6425 - val_loss: 1.6860 - val_accuracy: 0.1662\n",
      "Epoch 69/100\n",
      "21225/21225 [==============================] - 11s 498us/step - loss: 0.8465 - accuracy: 0.6462 - val_loss: 1.7086 - val_accuracy: 0.1566\n",
      "Epoch 70/100\n",
      "21225/21225 [==============================] - 11s 539us/step - loss: 0.8479 - accuracy: 0.6457 - val_loss: 1.9277 - val_accuracy: 0.1349\n",
      "Epoch 71/100\n",
      "21225/21225 [==============================] - 11s 495us/step - loss: 0.8436 - accuracy: 0.6517 - val_loss: 1.7435 - val_accuracy: 0.1536\n",
      "Epoch 72/100\n",
      "21225/21225 [==============================] - 10s 493us/step - loss: 0.8391 - accuracy: 0.6519 - val_loss: 1.6940 - val_accuracy: 0.1875\n",
      "Epoch 73/100\n",
      "21225/21225 [==============================] - 10s 483us/step - loss: 0.8369 - accuracy: 0.6500 - val_loss: 1.6956 - val_accuracy: 0.1766\n",
      "Epoch 74/100\n",
      "21225/21225 [==============================] - 11s 532us/step - loss: 0.8322 - accuracy: 0.6563 - val_loss: 1.6406 - val_accuracy: 0.1679\n",
      "Epoch 75/100\n",
      "21225/21225 [==============================] - 11s 505us/step - loss: 0.8287 - accuracy: 0.6555 - val_loss: 1.7050 - val_accuracy: 0.1773\n",
      "Epoch 76/100\n",
      "21225/21225 [==============================] - 12s 578us/step - loss: 0.8281 - accuracy: 0.6556 - val_loss: 1.7068 - val_accuracy: 0.1871\n",
      "Epoch 77/100\n",
      "21225/21225 [==============================] - 11s 526us/step - loss: 0.8301 - accuracy: 0.6571 - val_loss: 1.7396 - val_accuracy: 0.1649\n",
      "Epoch 78/100\n",
      "21225/21225 [==============================] - 11s 518us/step - loss: 0.8286 - accuracy: 0.6537 - val_loss: 1.7090 - val_accuracy: 0.1916\n",
      "Epoch 79/100\n",
      "21225/21225 [==============================] - 12s 549us/step - loss: 0.8268 - accuracy: 0.6555 - val_loss: 1.6984 - val_accuracy: 0.1781\n",
      "Epoch 80/100\n",
      "21225/21225 [==============================] - 13s 594us/step - loss: 0.8180 - accuracy: 0.6599 - val_loss: 1.7032 - val_accuracy: 0.1605\n",
      "Epoch 81/100\n",
      "21225/21225 [==============================] - 11s 520us/step - loss: 0.8155 - accuracy: 0.6612 - val_loss: 1.6287 - val_accuracy: 0.2037\n",
      "Epoch 82/100\n",
      "21225/21225 [==============================] - 10s 482us/step - loss: 0.8164 - accuracy: 0.6614 - val_loss: 1.6728 - val_accuracy: 0.1956\n",
      "Epoch 83/100\n",
      "21225/21225 [==============================] - 10s 489us/step - loss: 0.8167 - accuracy: 0.6640 - val_loss: 1.6197 - val_accuracy: 0.1896\n",
      "Epoch 84/100\n",
      "21225/21225 [==============================] - 10s 484us/step - loss: 0.8127 - accuracy: 0.6639 - val_loss: 1.5433 - val_accuracy: 0.2401\n",
      "Epoch 85/100\n",
      "21225/21225 [==============================] - 10s 479us/step - loss: 0.8040 - accuracy: 0.6675 - val_loss: 1.6636 - val_accuracy: 0.2009\n",
      "Epoch 86/100\n",
      "21225/21225 [==============================] - 10s 479us/step - loss: 0.8108 - accuracy: 0.6647 - val_loss: 1.7502 - val_accuracy: 0.1807\n",
      "Epoch 87/100\n",
      "21225/21225 [==============================] - 10s 489us/step - loss: 0.8018 - accuracy: 0.6677 - val_loss: 1.7289 - val_accuracy: 0.1649\n",
      "Epoch 88/100\n",
      "21225/21225 [==============================] - 12s 558us/step - loss: 0.7976 - accuracy: 0.6697 - val_loss: 1.6727 - val_accuracy: 0.1958\n",
      "Epoch 89/100\n",
      "21225/21225 [==============================] - 11s 500us/step - loss: 0.8043 - accuracy: 0.6673 - val_loss: 1.6860 - val_accuracy: 0.2054\n",
      "Epoch 90/100\n",
      "21225/21225 [==============================] - 11s 503us/step - loss: 0.7967 - accuracy: 0.6694 - val_loss: 1.6063 - val_accuracy: 0.2088\n",
      "Epoch 91/100\n",
      "21225/21225 [==============================] - 12s 546us/step - loss: 0.7964 - accuracy: 0.6726 - val_loss: 1.6412 - val_accuracy: 0.1963\n",
      "Epoch 92/100\n",
      "21225/21225 [==============================] - 11s 503us/step - loss: 0.7998 - accuracy: 0.6703 - val_loss: 1.6328 - val_accuracy: 0.2078\n",
      "Epoch 93/100\n",
      "21225/21225 [==============================] - 11s 526us/step - loss: 0.7861 - accuracy: 0.6739 - val_loss: 1.6965 - val_accuracy: 0.2082\n",
      "Epoch 94/100\n",
      "21225/21225 [==============================] - 10s 491us/step - loss: 0.7936 - accuracy: 0.6727 - val_loss: 1.6119 - val_accuracy: 0.2348\n",
      "Epoch 95/100\n",
      "21225/21225 [==============================] - 10s 488us/step - loss: 0.7813 - accuracy: 0.6769 - val_loss: 1.6229 - val_accuracy: 0.2148\n",
      "Epoch 96/100\n",
      "21225/21225 [==============================] - 10s 484us/step - loss: 0.7847 - accuracy: 0.6751 - val_loss: 1.6422 - val_accuracy: 0.1992\n",
      "Epoch 97/100\n",
      "21225/21225 [==============================] - 11s 505us/step - loss: 0.7873 - accuracy: 0.6757 - val_loss: 1.5482 - val_accuracy: 0.2623\n",
      "Epoch 98/100\n",
      "21225/21225 [==============================] - 11s 508us/step - loss: 0.7810 - accuracy: 0.6771 - val_loss: 1.7059 - val_accuracy: 0.2141\n",
      "Epoch 99/100\n",
      "21225/21225 [==============================] - 11s 501us/step - loss: 0.7827 - accuracy: 0.6791 - val_loss: 1.6678 - val_accuracy: 0.1999\n",
      "Epoch 100/100\n",
      "21225/21225 [==============================] - 11s 513us/step - loss: 0.7830 - accuracy: 0.6756 - val_loss: 1.4389 - val_accuracy: 0.2798\n",
      "dict_keys(['val_loss', 'val_accuracy', 'loss', 'accuracy'])\n"
     ]
    },
    {
     "data": {
      "image/png": "[encoded data removed]",
      "text/plain": [
       "<Figure size 432x288 with 1 Axes>"
      ]
     },
     "metadata": {
      "needs_background": "light"
     },
     "output_type": "display_data"
    },
    {
     "data": {
      "image/png": "[encoded data removed]",
      "text/plain": [
       "<Figure size 432x288 with 1 Axes>"
      ]
     },
     "metadata": {
      "needs_background": "light"
     },
     "output_type": "display_data"
    }
   ],
   "source": [
    "seq_nn(X_train_bs, y_train_bs)"
   ]
  },
  {
   "cell_type": "markdown",
   "metadata": {},
   "source": [
    "### Neural Network Notes\n",
    "- Resampling and adding synthetic data gives much more reasonable results for the validation data and training data\n",
    "- Training data seems to be learning from the data given.  Offers hope that there is a correct answer\n",
    "- The large gap between the training and the validation suggests overfitting to the training data.\n",
    "- Need to clean the data better and do more feature creation\n"
   ]
  },
  {
   "cell_type": "code",
   "execution_count": null,
   "metadata": {},
   "outputs": [],
   "source": []
  }
 ],
 "metadata": {
  "kernelspec": {
   "display_name": "Python 3",
   "language": "python",
   "name": "python3"
  },
  "language_info": {
   "codemirror_mode": {
    "name": "ipython",
    "version": 3
   },
   "file_extension": ".py",
   "mimetype": "text/x-python",
   "name": "python",
   "nbconvert_exporter": "python",
   "pygments_lexer": "ipython3",
   "version": "3.7.3"
  }
 },
 "nbformat": 4,
 "nbformat_minor": 2
}
